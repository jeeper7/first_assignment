{
 "cells": [
  {
   "cell_type": "markdown",
   "id": "5cae0c44",
   "metadata": {},
   "source": [
    "# Data Science Tools and Ecosystem"
   ]
  },
  {
   "cell_type": "markdown",
   "id": "dcb9ef7d",
   "metadata": {},
   "source": [
    "### In this notebook, Data Science Tools and Ecosystem are summarized."
   ]
  },
  {
   "cell_type": "markdown",
   "id": "a13a8c29",
   "metadata": {},
   "source": [
    "## Some of the popular languages that Data Scientists use are:\n",
    "\n",
    "    1.  Python\n",
    "    2.  R\n",
    "    3.  SQL\n",
    "    4.  Java"
   ]
  },
  {
   "cell_type": "markdown",
   "id": "6980bcb9",
   "metadata": {},
   "source": [
    "##           Some of the common libraries used by Data Scientists include:\n",
    "    1.  Pandas (python)\n",
    "    2.  NumPy (python)\n",
    "    3.  Matplotlib (python)\n",
    "    4.  Tensorflow (python)\n",
    "    5.  ggplot (R)\n",
    "    6.  dplyr (R)"
   ]
  },
  {
   "cell_type": "markdown",
   "id": "402f9a59",
   "metadata": {},
   "source": [
    "|Data Science Tools|\n",
    "------------\n",
    "|Jupyter Notebooks|\n",
    "|Apache Zeppelin|\n",
    "|R Studio|\n"
   ]
  },
  {
   "cell_type": "markdown",
   "id": "3d36539a",
   "metadata": {},
   "source": [
    "### Below are a few examples of evaluating arithmetic expressions in Python"
   ]
  },
  {
   "cell_type": "code",
   "execution_count": 1,
   "id": "9384a8a5",
   "metadata": {},
   "outputs": [
    {
     "data": {
      "text/plain": [
       "17"
      ]
     },
     "execution_count": 1,
     "metadata": {},
     "output_type": "execute_result"
    }
   ],
   "source": [
    "# This a simple arithmetic expression to mutiply then add integers\n",
    "\n",
    "(3*4)+5"
   ]
  },
  {
   "cell_type": "code",
   "execution_count": 5,
   "id": "5579146b",
   "metadata": {},
   "outputs": [
    {
     "data": {
      "text/plain": [
       "3.3333333333333335"
      ]
     },
     "execution_count": 5,
     "metadata": {},
     "output_type": "execute_result"
    }
   ],
   "source": [
    "# This will convert 200 minutes to hours by dividing by 60\n",
    "\n",
    "200/60"
   ]
  },
  {
   "cell_type": "markdown",
   "id": "235fe975",
   "metadata": {},
   "source": [
    "__Objectives__\n",
    "- Popular languages used in Data Science\n",
    "- Common libraries used in Data Science\n",
    "- Simple python expressions"
   ]
  },
  {
   "cell_type": "markdown",
   "id": "533d295f",
   "metadata": {},
   "source": [
    "## Author\n",
    "jp"
   ]
  }
 ],
 "metadata": {
  "kernelspec": {
   "display_name": "Python 3",
   "language": "python",
   "name": "python3"
  },
  "language_info": {
   "codemirror_mode": {
    "name": "ipython",
    "version": 3
   },
   "file_extension": ".py",
   "mimetype": "text/x-python",
   "name": "python",
   "nbconvert_exporter": "python",
   "pygments_lexer": "ipython3",
   "version": "3.8.8"
  }
 },
 "nbformat": 4,
 "nbformat_minor": 5
}
